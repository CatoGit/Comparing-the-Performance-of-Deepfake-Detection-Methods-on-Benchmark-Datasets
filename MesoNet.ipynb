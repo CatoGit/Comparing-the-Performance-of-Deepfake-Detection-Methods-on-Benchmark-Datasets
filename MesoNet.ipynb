{
  "nbformat": 4,
  "nbformat_minor": 0,
  "metadata": {
    "colab": {
      "name": "MesoNet.ipynb",
      "provenance": [],
      "collapsed_sections": [],
      "authorship_tag": "ABX9TyN3feU9Rna1ivYVeg1RDVeA",
      "include_colab_link": true
    },
    "kernelspec": {
      "name": "python3",
      "display_name": "Python 3"
    }
  },
  "cells": [
    {
      "cell_type": "markdown",
      "metadata": {
        "id": "view-in-github",
        "colab_type": "text"
      },
      "source": [
        "<a href=\"https://colab.research.google.com/github/CatoGit/Comparing-the-Performance-of-Deepfake-Detection-Methods-on-Benchmark-Datasets/blob/master/MesoNet.ipynb\" target=\"_parent\"><img src=\"https://colab.research.google.com/assets/colab-badge.svg\" alt=\"Open In Colab\"/></a>"
      ]
    },
    {
      "cell_type": "markdown",
      "metadata": {
        "id": "2BfjKLHIYeZE",
        "colab_type": "text"
      },
      "source": [
        "Reimplementation of MesoNet as published by Darius Afchar Vincent Nozick,Junichi Yamagishi and Isao Echizen in MesoNet: a Compact Facial Video Forgery Detection Network (arXiv: https://arxiv.org/abs/1809.00888)\n",
        "\n",
        "Reimplementation by: Christopher Otto"
      ]
    },
    {
      "cell_type": "code",
      "metadata": {
        "id": "z2hHhxciYNYa",
        "colab_type": "code",
        "colab": {}
      },
      "source": [
        "import tensorflow as tf\n",
        "from tensorflow.keras.layers import Conv2D, ReLU, BatchNormalization\n",
        "from tensorflow.keras.layers import Dropout, Dense"
      ],
      "execution_count": 0,
      "outputs": []
    },
    {
      "cell_type": "code",
      "metadata": {
        "id": "jxS1DU-oZObL",
        "colab_type": "code",
        "colab": {}
      },
      "source": [
        "def module1(input, filters, kernel_size, strides):\n",
        "  \"\"\"Module 1/6 in the Meso-4 architecture.\"\"\"\n",
        "    x = Conv2D(filers=filters,\n",
        "               kernel_size=kernel_size,\n",
        "               strides=strides)(input)\n",
        "    x = ReLU()(x)\n",
        "    x = BatchNormalization()(x)\n",
        "    x = MaxPool2D(pool_size=(2,2))(x)\n",
        "    return x\n",
        "\n",
        "\n",
        "def module2(tensor, filters, kernel_size, strides):\n",
        "  \"\"\"Module 2/6 in the Meso-4 architecture.\"\"\"\n",
        "    x = Conv2D(filters=filters, \n",
        "               kernel_size=kernel_size, \n",
        "               strides=strides)(tensor)\n",
        "    x = BatchNormalization()(x)\n",
        "    x = MaxPool2D(pool_size=(2,2))(x)\n",
        "    return x\n",
        "\n",
        "\n",
        "def module3(tensor, filters, kernel_size, strides):\n",
        "    \"\"\"Module 3/6 in the Meso-4 architecture.\"\"\"\n",
        "    x = Conv2D(filters=filers,\n",
        "               kernel_size=kernel_size,\n",
        "               strides=strides)(tensor)\n",
        "    x = BatchNormalization()(x)\n",
        "    x = MaxPool2D(pool_size=(2,2))(x)\n",
        "    return x\n",
        "\n",
        "def module4(tensor, filters, kernel_size, strides):\n",
        "    \"\"\"Module 4/6 in the Meso-4 architecture.\"\"\"\n",
        "    x = Conv2D(filters=filers,\n",
        "               kernel_size=kernel_size,\n",
        "               strides=strides)(tensor)\n",
        "    x = BatchNormalization()(x)\n",
        "    x = MaxPool2D(pool_size=(4,4))(x)\n",
        "    return x\n",
        "\n",
        "def module5_and_6(tensor, filters, kernel_size, strides):\n",
        "    x = Dropout(rate=0.5)(tensor)\n",
        "    x = Dense()\n"
      ],
      "execution_count": 0,
      "outputs": []
    },
    {
      "cell_type": "code",
      "metadata": {
        "id": "utU590KfYW9G",
        "colab_type": "code",
        "colab": {}
      },
      "source": [
        "def MesoNet4(input_shape=(256,256,3), classes=1):\n",
        "  \"\"\"Reimplementation of MesoNet\"\"\"\n",
        "  input = Input(shape=input_shape)\n"
      ],
      "execution_count": 0,
      "outputs": []
    }
  ]
}