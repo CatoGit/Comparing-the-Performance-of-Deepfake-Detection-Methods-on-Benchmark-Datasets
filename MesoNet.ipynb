{
  "nbformat": 4,
  "nbformat_minor": 0,
  "metadata": {
    "colab": {
      "name": "MesoNet.ipynb",
      "provenance": [],
      "collapsed_sections": [],
      "authorship_tag": "ABX9TyPU5nC+i0oHfq/8I00TUgr7",
      "include_colab_link": true
    },
    "kernelspec": {
      "name": "python3",
      "display_name": "Python 3"
    }
  },
  "cells": [
    {
      "cell_type": "markdown",
      "metadata": {
        "id": "view-in-github",
        "colab_type": "text"
      },
      "source": [
        "<a href=\"https://colab.research.google.com/github/CatoGit/Comparing-the-Performance-of-Deepfake-Detection-Methods-on-Benchmark-Datasets/blob/master/MesoNet.ipynb\" target=\"_parent\"><img src=\"https://colab.research.google.com/assets/colab-badge.svg\" alt=\"Open In Colab\"/></a>"
      ]
    },
    {
      "cell_type": "markdown",
      "metadata": {
        "id": "2BfjKLHIYeZE",
        "colab_type": "text"
      },
      "source": [
        "Reimplementation of MesoNet as published by Darius Afchar Vincent Nozick,Junichi Yamagishi and Isao Echizen in MesoNet: a Compact Facial Video Forgery Detection Network (arXiv: https://arxiv.org/abs/1809.00888)\n",
        "\n",
        "Reimplementation by: Christopher Otto"
      ]
    },
    {
      "cell_type": "code",
      "metadata": {
        "id": "z2hHhxciYNYa",
        "colab_type": "code",
        "colab": {}
      },
      "source": [
        "import tensorflow as tf\n",
        "from tensorflow.keras.layers import Conv2D, ReLU, BatchNormalization, Flatten\n",
        "from tensorflow.keras.layers import Dropout, Dense, Input, MaxPool2D\n",
        "from tensorflow.keras.activations import sigmoid\n",
        "from tensorflow.keras import Model"
      ],
      "execution_count": 0,
      "outputs": []
    },
    {
      "cell_type": "code",
      "metadata": {
        "id": "jxS1DU-oZObL",
        "colab_type": "code",
        "colab": {}
      },
      "source": [
        "def module1(input, filters, kernel_size, strides, padding):\n",
        "    \"\"\"Module 1/6 in the Meso-4 architecture.\"\"\"\n",
        "    x = Conv2D(filters=filters,\n",
        "               kernel_size=kernel_size,\n",
        "               strides=strides,\n",
        "               padding=padding)(input)\n",
        "    x = ReLU()(x)\n",
        "    x = BatchNormalization()(x)\n",
        "    x = MaxPool2D(pool_size=(2,2), padding = \"same\")(x)\n",
        "    return x\n",
        "\n",
        "\n",
        "def module2(tensor, filters, kernel_size, strides,padding):\n",
        "    \"\"\"Module 2/6 in the Meso-4 architecture.\"\"\"\n",
        "    x = Conv2D(filters=filters, \n",
        "               kernel_size=kernel_size, \n",
        "               strides=strides,\n",
        "               padding=padding)(tensor)\n",
        "    x = BatchNormalization()(x)\n",
        "    x = MaxPool2D(pool_size=(2,2), padding = \"same\")(x)\n",
        "    return x\n",
        "\n",
        "\n",
        "def module3(tensor, filters, kernel_size, strides, padding):\n",
        "    \"\"\"Module 3/6 in the Meso-4 architecture.\"\"\"\n",
        "    x = Conv2D(filters=filters,\n",
        "               kernel_size=kernel_size,\n",
        "               strides=strides,\n",
        "               padding=padding)(tensor)\n",
        "    x = BatchNormalization()(x)\n",
        "    x = MaxPool2D(pool_size=(2,2), padding = \"same\")(x)\n",
        "    return x\n",
        "\n",
        "def module4(tensor, filters, kernel_size, strides, padding):\n",
        "    \"\"\"Module 4/6 in the Meso-4 architecture.\"\"\"\n",
        "    x = Conv2D(filters=filters,\n",
        "               kernel_size=kernel_size,\n",
        "               strides=strides,\n",
        "               padding=padding)(tensor)\n",
        "    x = BatchNormalization()(x)\n",
        "    x = MaxPool2D(pool_size=(4,4), padding = \"same\")(x)\n",
        "    return x\n",
        "\n",
        "def module5_and_6(tensor):\n",
        "    x = Flatten()(tensor)\n",
        "    x = Dropout(rate=0.5)(x)\n",
        "    x = Dense(16)(x)\n",
        "    x = Dropout(rate=0.5)(x)\n",
        "    x = Dense(1)(x)\n",
        "    x = sigmoid(x)\n",
        "    return x\n",
        "\n"
      ],
      "execution_count": 0,
      "outputs": []
    },
    {
      "cell_type": "code",
      "metadata": {
        "id": "utU590KfYW9G",
        "colab_type": "code",
        "colab": {}
      },
      "source": [
        "def MesoNet4(input_shape=(256,256,3)):\n",
        "    \"\"\"Reimplementation of MesoNet\"\"\"\n",
        "    input = Input(shape=input_shape)\n",
        "    x = module1(input,\n",
        "                filters=8,\n",
        "                kernel_size=(3,3),\n",
        "                strides=(1,1),\n",
        "                padding=\"same\")\n",
        "    x = module2(x,\n",
        "                filters=8,\n",
        "                kernel_size=(5,5),\n",
        "                strides=(1,1),\n",
        "                padding=\"same\")\n",
        "    x = module3(x,\n",
        "                filters=16,\n",
        "                kernel_size=(5,5),\n",
        "                strides=(1,1),\n",
        "                padding=\"same\")\n",
        "    x = module4(x,\n",
        "                filters=16,\n",
        "                kernel_size=(5,5),\n",
        "                strides=(1,1),\n",
        "                padding=\"same\")\n",
        "    x = module5_and_6(x)\n",
        "    return Model(input,x)"
      ],
      "execution_count": 0,
      "outputs": []
    },
    {
      "cell_type": "code",
      "metadata": {
        "id": "hAw-zNQ6t2oD",
        "colab_type": "code",
        "colab": {}
      },
      "source": [
        "model = MesoNet4(input_shape=(256,256,3))"
      ],
      "execution_count": 0,
      "outputs": []
    },
    {
      "cell_type": "code",
      "metadata": {
        "id": "g3hMemmgt4-v",
        "colab_type": "code",
        "colab": {
          "base_uri": "https://localhost:8080/",
          "height": 833
        },
        "outputId": "098b8154-a40e-44a3-ccd6-81f4cd95dd8e"
      },
      "source": [
        "model.summary()"
      ],
      "execution_count": 89,
      "outputs": [
        {
          "output_type": "stream",
          "text": [
            "Model: \"model_9\"\n",
            "_________________________________________________________________\n",
            "Layer (type)                 Output Shape              Param #   \n",
            "=================================================================\n",
            "input_20 (InputLayer)        [(None, 256, 256, 3)]     0         \n",
            "_________________________________________________________________\n",
            "conv2d_55 (Conv2D)           (None, 256, 256, 8)       224       \n",
            "_________________________________________________________________\n",
            "re_lu_15 (ReLU)              (None, 256, 256, 8)       0         \n",
            "_________________________________________________________________\n",
            "batch_normalization_55 (Batc (None, 256, 256, 8)       32        \n",
            "_________________________________________________________________\n",
            "max_pooling2d_54 (MaxPooling (None, 128, 128, 8)       0         \n",
            "_________________________________________________________________\n",
            "conv2d_56 (Conv2D)           (None, 128, 128, 8)       1608      \n",
            "_________________________________________________________________\n",
            "batch_normalization_56 (Batc (None, 128, 128, 8)       32        \n",
            "_________________________________________________________________\n",
            "max_pooling2d_55 (MaxPooling (None, 64, 64, 8)         0         \n",
            "_________________________________________________________________\n",
            "conv2d_57 (Conv2D)           (None, 64, 64, 16)        3216      \n",
            "_________________________________________________________________\n",
            "batch_normalization_57 (Batc (None, 64, 64, 16)        64        \n",
            "_________________________________________________________________\n",
            "max_pooling2d_56 (MaxPooling (None, 32, 32, 16)        0         \n",
            "_________________________________________________________________\n",
            "conv2d_58 (Conv2D)           (None, 32, 32, 16)        6416      \n",
            "_________________________________________________________________\n",
            "batch_normalization_58 (Batc (None, 32, 32, 16)        64        \n",
            "_________________________________________________________________\n",
            "max_pooling2d_57 (MaxPooling (None, 8, 8, 16)          0         \n",
            "_________________________________________________________________\n",
            "flatten_1 (Flatten)          (None, 1024)              0         \n",
            "_________________________________________________________________\n",
            "dropout_24 (Dropout)         (None, 1024)              0         \n",
            "_________________________________________________________________\n",
            "dense_24 (Dense)             (None, 16)                16400     \n",
            "_________________________________________________________________\n",
            "dropout_25 (Dropout)         (None, 16)                0         \n",
            "_________________________________________________________________\n",
            "dense_25 (Dense)             (None, 1)                 17        \n",
            "_________________________________________________________________\n",
            "tf_op_layer_Sigmoid_11 (Tens [(None, 1)]               0         \n",
            "=================================================================\n",
            "Total params: 28,073\n",
            "Trainable params: 27,977\n",
            "Non-trainable params: 96\n",
            "_________________________________________________________________\n"
          ],
          "name": "stdout"
        }
      ]
    },
    {
      "cell_type": "code",
      "metadata": {
        "id": "4nb6_Nk405mJ",
        "colab_type": "code",
        "colab": {}
      },
      "source": [
        ""
      ],
      "execution_count": 0,
      "outputs": []
    }
  ]
}